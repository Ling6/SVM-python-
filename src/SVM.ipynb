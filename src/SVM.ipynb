{
 "cells": [
  {
   "cell_type": "code",
   "execution_count": 1,
   "metadata": {},
   "outputs": [],
   "source": [
    "import numpy as np\n",
    "import pandas as pd\n",
    "import matplotlib.pyplot as plt\n",
    "import scipy.io as scio\n",
    "import random"
   ]
  },
  {
   "cell_type": "code",
   "execution_count": 2,
   "metadata": {},
   "outputs": [],
   "source": [
    "def load_data(path):\n",
    "    \"\"\"\n",
    "    读取数据\n",
    "    param\n",
    "    path: 数据路径\n",
    "    \"\"\"\n",
    "    \n",
    "    train_data = np.array(pd.read_csv(path, header = None, index_col=False));\n",
    "    data_list = [];\n",
    "    for index in range(train_data.shape[0]):\n",
    "        strlist = train_data[index][0].strip().split('    ');\n",
    "        strlist[0] = strlist[0].split(' ')[1];\n",
    "        data_list.append(strlist);\n",
    "    data_list = np.array(data_list);\n",
    "    data_list = data_list.astype(float);\n",
    "    return data_list;"
   ]
  },
  {
   "cell_type": "code",
   "execution_count": 182,
   "metadata": {},
   "outputs": [],
   "source": [
    "def load_data(path):\n",
    "    \"\"\"\n",
    "    读取数据\n",
    "    param\n",
    "    path: 数据路径\n",
    "    \n",
    "    \"\"\"\n",
    "    \n",
    "    data = scio.loadmat(path);\n",
    "    train_data = data['X'];\n",
    "    train_label = data['y'];\n",
    "    train_label = train_label.reshape(-1);  # 标签转为向量\n",
    "    return train_data, train_label;"
   ]
  },
  {
   "cell_type": "code",
   "execution_count": 211,
   "metadata": {},
   "outputs": [],
   "source": [
    "class SVM:\n",
    "    def __init__(self, train_data, train_label, sigma = 0.1, C = 100, epsilon = 0.0001, iter_time = 30):\n",
    "        \"\"\"\n",
    "        初始化函数\n",
    "        param\n",
    "        train_data: 训练集\n",
    "        train_label: 训练标签\n",
    "        sigma: 高斯核函数的参数\n",
    "        C: 软间隔的惩罚系数\n",
    "        epsilon: 精度\n",
    "        iter_time: 迭代次数\n",
    "        \"\"\"\n",
    "        \n",
    "        self.train_data = train_data;  # 训练特征集\n",
    "        self.train_label = train_label;  # 训练标签\n",
    "        \n",
    "        self.sigma = sigma;  # 高斯核函数参数\n",
    "        self.C = C;  # 惩罚项系数\n",
    "        self.epsilon = epsilon;  # 精确值\n",
    "        self.iter_time = iter_time;  # 迭代次数\n",
    "        \n",
    "        self.G = np.zeros(train_data.shape[0]);  # G值\n",
    "        self.E = -1 * train_label.copy();  # E值\n",
    "        self.alpha = np.zeros(train_data.shape[0]);  # 拉格朗日参数\n",
    "        self.b = 0;  \n",
    "        self.m = train_data.shape[0];  # 样本数\n",
    "        \n",
    "        self.supportVecIndex = [];  # 支持向量\n",
    "    \n",
    "    def gaussian_kernel(self, i):\n",
    "        \"\"\"\n",
    "        高斯核函数,向量化计算K(j,i),即一次性计算出K(1,i), K(2,i),...,K(m,i),m是样本数\n",
    "        param\n",
    "        i: 需要计算的那个样本的编号\n",
    "        return\n",
    "        K: 是i与每个样本的核函数结果向量\n",
    "        \"\"\"\n",
    "        \n",
    "        K = np.exp(-1 * np.sum((self.train_data - self.train_data[i])**2, axis = 1) / (2 * self.sigma**2));\n",
    "        return K;\n",
    "    \n",
    "    def single_gaussian_kernel(self, i, j):\n",
    "        \"\"\"\n",
    "        计算单个高斯核函数，不使用向量化，单独计算K(i,j)\n",
    "        param\n",
    "        i: 第1个样本编号\n",
    "        j: 第2个样本编号\n",
    "        \"\"\"\n",
    "        K = np.exp(-1 * np.sum((self.train_data[i] - self.train_data[j])**2) / (2 * (self.sigma ** 2)));\n",
    "        return K;\n",
    "    \n",
    "    def compute_G(self, i):\n",
    "        \"\"\"\n",
    "        计算第i个样本的G值\n",
    "        param\n",
    "        i: 计算的那个样本的编号\n",
    "        \"\"\"\n",
    "        \n",
    "        K_i = self.gaussian_kernel(i);  # 计算这个样本的高斯核函数结果\n",
    "        G = np.sum(self.alpha * self.train_label * K_i) + self.b;\n",
    "        return G;\n",
    "    \n",
    "    def compute_E(self, i):\n",
    "        \"\"\"\n",
    "        计算第i个样本的E值\n",
    "        param\n",
    "        i: 样本的编号\n",
    "        \"\"\"\n",
    "        \n",
    "        G_i = self.compute_G(i);  # 计算这个样本的G值\n",
    "        E = G_i - self.train_label[i];\n",
    "        return E;\n",
    "    \n",
    "    def gaussian_kernel_for_test(self, x):\n",
    "        \"\"\"\n",
    "        用于计算预测样本的高斯核函数，使用样本特征作为输入\n",
    "        param\n",
    "        x: 输入样本\n",
    "        return\n",
    "        K: 预测样本与每个样本的结果向量\n",
    "        \"\"\"\n",
    "        \n",
    "        K = np.exp(-1 * np.sum((self.train_data - x)**2, axis = 1) / (2 * self.sigma**2));\n",
    "        return K;\n",
    "    \n",
    "    def compute_G_for_test(self, x):\n",
    "        \"\"\"\n",
    "        计算预测样本的G值\n",
    "        param\n",
    "        x: 输入样本\n",
    "        \"\"\"\n",
    "        \n",
    "        K_i = self.gaussian_kernel_for_test(x);  # 计算这个样本的高斯核结果\n",
    "        G = np.sum(self.alpha * self.train_label * K_i) + self.b;\n",
    "        return G;\n",
    "    \n",
    "    def judge_KKT(self, i):\n",
    "        \"\"\"\n",
    "        判断第i个样本是否满足KKT\n",
    "        return\n",
    "        True: 满足KKT条件\n",
    "        False: 不满足\n",
    "        \"\"\"\n",
    "        \n",
    "        Ei = self.compute_E(i);\n",
    "        # 该语句用于判断是否满足3条KTT条件\n",
    "        if (((self.train_label[i] * Ei < -self.epsilon) and (self.alpha[i] < self.C)) or ((self.train_label[i] * Ei > self.epsilon) and (self.alpha[i] > 0))):\n",
    "            return False;\n",
    "        \n",
    "        return True;\n",
    "            \n",
    "    \n",
    "    def select_second_alpha(self, i):\n",
    "        \"\"\"\n",
    "        选出第二个alpha\n",
    "        param\n",
    "        i: 选中的第1个alpha的编号\n",
    "        return \n",
    "        j: 第二个alpha的索引\n",
    "        \"\"\"\n",
    "        \n",
    "        delta_Es = abs(self.E - self.E[i]);  # 计算第i个样本的E与所有的其他样本的E差\n",
    "        delta_Es[i] = -1;  # 把与自己的差值设为负的，防止选到自己\n",
    "        j = np.argmax(delta_Es);\n",
    "        return j\n",
    "\n",
    "    \n",
    "    def update(self, i, j, E1, E2):\n",
    "        \"\"\"\n",
    "        选择好两个alpha后，更新alpha，如果alpha变化太小则直接退出\n",
    "        parame\n",
    "        i: 第一个alpha的编号\n",
    "        j: 第二个alpha的编号\n",
    "        E1: 第1个alpha样本的E值\n",
    "        E2: 第2个alpha样本的E值\n",
    "        return\n",
    "        True: 成功更新\n",
    "        False: 未进行更新，返回重新选择alpha\n",
    "        \"\"\"\n",
    "        \n",
    "        # 计算未经剪辑的alpha2的解\n",
    "        x1, x2 = self.train_data[i], self.train_data[j];  # 选择的第1个和第2个alpha的样本\n",
    "        y1, y2 = self.train_label[i], self.train_label[j];  # 选择的第1个和第2个alpha的样本标签\n",
    "        alpha1, alpha2 = self.alpha[i], self.alpha[j];  # 选择的第1个和第2个alpha\n",
    "        self.single_gaussian_kernel(i, j)\n",
    "        K11, K12, K22 = self.single_gaussian_kernel(i, i), self.single_gaussian_kernel(i, j), self.single_gaussian_kernel(j, j);\n",
    "        eta = K11 + K22 - 2 * K12;           \n",
    "        alpha2_new_unc = self.alpha[j] + (self.train_label[j] * (E1 - E2) ) / eta;  # 未经剪辑的alpha2的解\n",
    "        # 剪辑解\n",
    "        if (y1 == y2):\n",
    "            L = max(0, alpha1 + alpha2 - self.C);\n",
    "            H = min(self.C, alpha1 + alpha2);\n",
    "        else:\n",
    "            L = max(0, alpha2 - alpha1);\n",
    "            H = min(self.C, self.C + alpha2 - alpha1);\n",
    "        if (alpha2_new_unc<=H and alpha2_new_unc>=L):\n",
    "            alpha2_new = alpha2_new_unc;\n",
    "        elif (alpha2_new_unc < L):\n",
    "            alpha2_new = L;\n",
    "        else:\n",
    "            alpha2_new = H;     \n",
    "        if (abs(alpha2_new - alpha2) < 0.00001):  # 如果更新太小，直接return，重新选择\n",
    "            return False\n",
    "        alpha1_new = alpha1 + y1 * y2 * (alpha2 - alpha2_new);\n",
    "        self.alpha[i] = alpha1_new;  # 更新alpha1\n",
    "        self.alpha[j] = alpha2_new;  # 更新alpha2\n",
    "        # 更新b\n",
    "        b1 = -1 * E1 - y1 * K11 * (alpha1_new - alpha1) - y2 * K12 * (alpha2_new - alpha2) + self.b;\n",
    "        b2 = -1 * E2 - y1 * K12 * (alpha1_new - alpha1) - y2 * K22 * (alpha2_new - alpha2) + self.b;  \n",
    "        # 确定b\n",
    "        if (alpha1_new < self.C and alpha1_new > 0):\n",
    "            self.b = b1;\n",
    "        elif (alpha2_new < self.C and alpha2_new > 0):\n",
    "            self.b = b2;\n",
    "        else:\n",
    "            self.b = (b1 + b2) / 2;\n",
    "\n",
    "        self.E[i] = self.compute_E(i);  # 更新E1\n",
    "        self.E[j] = self.compute_E(j);  # 更新E2\n",
    "        return True;\n",
    "    \n",
    "    def train(self):\n",
    "        \"\"\"\n",
    "        使用SMO算法进行训练\n",
    "        \"\"\"\n",
    "        \n",
    "        iter_time = 0;  # 当前的循环次数\n",
    "        entire_flag = True;  # 是否进行整个数据集遍历的标记\n",
    "        parameterChanged = 1;  # 记录参数改变的次数\n",
    "        while (iter_time < self.iter_time and parameterChanged > 0 or entire_flag):\n",
    "            parameterChanged = 0;\n",
    "            if (entire_flag):\n",
    "                entire_flag = False;  # 下次对支持向量进行遍历\n",
    "                for i in range(self.m):  # 遍历每个样本，选择第1个alpha\n",
    "                    if (not self.judge_KKT(i)):  # 如果这个样本不满足KKT条件，则作为第1个alpha，然后选择第2个alpha\n",
    "                        self.E[i] = self.compute_E(i);  # 第1个alpha样本的E值\n",
    "                        j = self.select_second_alpha(i);  # 选择第2个alpha\n",
    "                        self.E[j] = self.compute_E(j);  # 第2个E值\n",
    "                        flag = self.update(i, j, self.E[i], self.E[j]); \n",
    "                        if (flag == True):\n",
    "                            parameterChanged += 1;\n",
    "            else:\n",
    "                indices_in = [];  # 存放支持向量0<alpha<C的索引\n",
    "                for i in range(self.m):\n",
    "                    if (self.alpha[i]>0 and self.alpha[i]<self.C):\n",
    "                        indices_in.append(i);\n",
    "                        \n",
    "                for i in indices_in:  # 对支持向量先进行选择\n",
    "                    if (not self.judge_KKT(i)):  # 如果这个样本不满足KKT，则作为第1个alpha，然后选择第2个alpha\n",
    "                        self.E[i] = self.compute_E(i);  # 第1个alpha样本的E值\n",
    "                        j = self.select_second_alpha(i);  # 选择第2个alpha\n",
    "                        self.E[j] = self.compute_E(j);  # 第2个E值\n",
    "                        flag = self.update(i, j, self.E[i], self.E[j]); \n",
    "                        if (flag == True):\n",
    "                            parameterChanged += 1;\n",
    "                            \n",
    "                if (parameterChanged == 0):  # 如果参数1个都没改变，则接下来进行整个训练集的遍历，如果参数变了，继续遍历支持向量\n",
    "                    entire_flag = True;\n",
    "                    \n",
    "            iter_time += 1;\n",
    "            #打印迭代轮数，i值，该迭代轮数修改alpha数目\n",
    "#             print(\"iter: %d , pairs changed %d\" % (iter_time, parameterChanged))\n",
    "        #全部计算结束后，重新遍历一遍alpha，查找里面的支持向量\n",
    "        for i in range(self.m):\n",
    "            #如果alpha>0，说明是支持向量\n",
    "            if (self.alpha[i] > 0 and self.alpha[i] < self.C):\n",
    "                #将支持向量的索引保存起来\n",
    "                self.supportVecIndex.append(i)\n",
    "\n",
    "                \n",
    "    def sign(self, z):\n",
    "        \"\"\"\n",
    "        决策函数，返回类别\n",
    "        param\n",
    "        z: 预测值\n",
    "        \"\"\"\n",
    "        if (z >= 0):\n",
    "            return 1;\n",
    "        else:\n",
    "            return -1;\n",
    "    \n",
    "    def show_support_vector(self):\n",
    "        fig, ax = plt.subplots(figsize=(8, 6));\n",
    "        p = np.array(self.supportVecIndex)[np.where(self.train_label[self.supportVecIndex]==1)[0]];\n",
    "        n = np.array(self.supportVecIndex)[np.where(self.train_label[self.supportVecIndex]==-1)[0]];\n",
    "        ax.scatter(self.train_data[p, 0], self.train_data[p, 1],  color='r');\n",
    "        ax.scatter(self.train_data[n, 0], self.train_data[n, 1],  color='b');\n",
    "        plt.show();\n",
    "    \n",
    "    def show_boundary(self, flag):\n",
    "        \"\"\"\n",
    "        展示决策边界\n",
    "        param\n",
    "        flag: 为1则是画出数据集1的决策边界，2则是画出数据集2的决策边界。\n",
    "              因为数据集2有噪声样本，直接取最大最小值作为边界范围就太大了。\n",
    "        \"\"\"\n",
    "        \n",
    "        if (flag == 1):\n",
    "            x_left, x_right = np.min(train_data[:, 0]) - 0.05, np.max(train_data[:, 0]) + 0.05;  # 左右界\n",
    "            y_low, y_high = np.min(train_data[:, 1]) - 0.05, np.max(train_data[:, 1]) + 0.05;  # 上下界\n",
    "        elif (flag == 2):  # \n",
    "            x_left, x_right = 0, 1.1;  # 左右界\n",
    "            y_low, y_high = 0.38, 1;  # 上下界\n",
    "        x = np.linspace(x_left, x_right, 500);  # 按左右界生成序列\n",
    "        y = np.linspace(y_low, y_high, 500);  # 同上\n",
    "        xx, yy = np.meshgrid(x, y);  # 生成网格数据\n",
    "        xx = xx.reshape(-1, 1);  # 拉长\n",
    "        yy = yy.reshape(-1, 1);\n",
    "        test_data = np.column_stack((xx, yy));\n",
    "        zz = [];  # 存放预测类别\n",
    "        for sample in test_data:\n",
    "            zz.append(self.sign(self.compute_G_for_test(sample)));  # 把预测类别添加到zz中\n",
    "        \n",
    "        zz = np.array(zz);\n",
    "        p_sample = np.where(zz == 1)[0];\n",
    "        n_sample = np.where(zz == -1)[0];   \n",
    "        \n",
    "        fig, ax = plt.subplots(figsize=(8, 6));\n",
    "        ax.scatter(test_data[p_sample, 0], test_data[p_sample, 1],  color='r');\n",
    "        ax.scatter(test_data[n_sample, 0], test_data[n_sample, 1],  color='b');  \n",
    "        plt.show();\n"
   ]
  },
  {
   "cell_type": "code",
   "execution_count": 151,
   "metadata": {},
   "outputs": [],
   "source": [
    "path_train = 'F:\\\\Anaconda\\\\path\\\\base\\\\Statistical learning\\\\SVM\\\\dataset_1';\n",
    "data1 = scio.loadmat(path_train);\n",
    "X_train1 = data1['X'];\n",
    "y_train1 = data1['y'];\n",
    "y_train1 = y_train1.reshape(-1);"
   ]
  },
  {
   "cell_type": "code",
   "execution_count": 159,
   "metadata": {},
   "outputs": [
    {
     "data": {
      "image/png": "[encoded data removed]",
      "text/plain": [
       "<Figure size 720x576 with 1 Axes>"
      ]
     },
     "metadata": {
      "needs_background": "light"
     },
     "output_type": "display_data"
    }
   ],
   "source": [
    "fig, ax = plt.subplots(figsize=(10, 8));\n",
    "p_sample = np.where(y_train1 == 1)[0];\n",
    "n_sample = np.where(y_train1 == -1)[0];\n",
    "ax.scatter(X_train1[p_sample, 0], X_train1[p_sample, 1],  color='r');\n",
    "ax.scatter(X_train1[n_sample, 0], X_train1[n_sample, 1],  color='b');"
   ]
  },
  {
   "cell_type": "code",
   "execution_count": 192,
   "metadata": {},
   "outputs": [
    {
     "data": {
      "image/png": "[encoded data removed]",
      "text/plain": [
       "<Figure size 576x432 with 1 Axes>"
      ]
     },
     "metadata": {
      "needs_background": "light"
     },
     "output_type": "display_data"
    }
   ],
   "source": [
    "train_data, train_label = load_data('F:\\\\Anaconda\\\\path\\\\base\\\\Statistical learning\\\\SVM\\\\dataset_1');\n",
    "temp_svm = SVM(train_data, train_label, sigma = 0.1);\n",
    "temp_svm.train();\n",
    "temp_svm.show_boundary(1);"
   ]
  },
  {
   "cell_type": "code",
   "execution_count": 193,
   "metadata": {},
   "outputs": [
    {
     "data": {
      "image/png": "[encoded data removed]",
      "text/plain": [
       "<Figure size 576x432 with 1 Axes>"
      ]
     },
     "metadata": {
      "needs_background": "light"
     },
     "output_type": "display_data"
    }
   ],
   "source": [
    "temp_svm.show_support_vector();"
   ]
  },
  {
   "cell_type": "code",
   "execution_count": 163,
   "metadata": {},
   "outputs": [
    {
     "data": {
      "image/png": "[encoded data removed]",
      "text/plain": [
       "<Figure size 720x576 with 1 Axes>"
      ]
     },
     "metadata": {
      "needs_background": "light"
     },
     "output_type": "display_data"
    }
   ],
   "source": [
    "temp_svm.show_boundary(True)"
   ]
  },
  {
   "cell_type": "code",
   "execution_count": 212,
   "metadata": {},
   "outputs": [],
   "source": [
    "file_name = 'F:\\\\Anaconda\\\\path\\\\base\\\\Statistical learning\\\\SVM\\\\dataset_2';\n",
    "data1 = scio.loadmat(file_name);\n",
    "X_train1 = data1['X'];\n",
    "y_train1 = data1['y'];\n",
    "y_train1 = y_train1.reshape(-1);\n",
    "temp_svm1 = SVM(X_train1, y_train1, sigma = 0.1, C = 300);\n",
    "temp_svm1.train()"
   ]
  },
  {
   "cell_type": "code",
   "execution_count": 210,
   "metadata": {},
   "outputs": [
    {
     "data": {
      "image/png": "[encoded data removed]",
      "text/plain": [
       "<Figure size 576x432 with 1 Axes>"
      ]
     },
     "metadata": {
      "needs_background": "light"
     },
     "output_type": "display_data"
    }
   ],
   "source": [
    "temp_svm1.show_boundary(2)"
   ]
  },
  {
   "cell_type": "code",
   "execution_count": null,
   "metadata": {},
   "outputs": [],
   "source": [
    "temp_svm1.show_support_vector()"
   ]
  },
  {
   "cell_type": "code",
   "execution_count": 180,
   "metadata": {},
   "outputs": [
    {
     "data": {
      "image/png": "[encoded data removed]",
      "text/plain": [
       "<Figure size 576x432 with 1 Axes>"
      ]
     },
     "metadata": {
      "needs_background": "light"
     },
     "output_type": "display_data"
    }
   ],
   "source": [
    "\"\"\"\n",
    "打印支持向量\n",
    "\"\"\"\n",
    "\n",
    "# print(np.where(y_train1[temp_svm1.supportVecIndex]==1)[0])\n",
    "# print(np.where(y_train1[temp_svm1.supportVecIndex]==-1)[0])\n",
    "# print(np.array(temp_svm1.supportVecIndex))\n",
    "p = np.array(temp_svm1.supportVecIndex)[np.where(y_train1[temp_svm1.supportVecIndex]==1)[0]];\n",
    "n = np.array(temp_svm1.supportVecIndex)[np.where(y_train1[temp_svm1.supportVecIndex]==-1)[0]];\n",
    "# print(n)\n",
    "fig, ax = plt.subplots(figsize=(8,6));\n",
    "ax.scatter(X_train1[p, 0], X_train1[p, 1],  color='b');\n",
    "ax.scatter(X_train1[n, 0], X_train1[n, 1],  color='r');"
   ]
  },
  {
   "cell_type": "code",
   "execution_count": 197,
   "metadata": {},
   "outputs": [
    {
     "data": {
      "image/png": "[encoded data removed]",
      "text/plain": [
       "<Figure size 576x432 with 1 Axes>"
      ]
     },
     "metadata": {
      "needs_background": "light"
     },
     "output_type": "display_data"
    }
   ],
   "source": [
    "temp_svm1.show_boundary(2)"
   ]
  },
  {
   "cell_type": "code",
   "execution_count": null,
   "metadata": {},
   "outputs": [],
   "source": []
  }
 ],
 "metadata": {
  "kernelspec": {
   "display_name": "Python 3",
   "language": "python",
   "name": "python3"
  },
  "language_info": {
   "codemirror_mode": {
    "name": "ipython",
    "version": 3
   },
   "file_extension": ".py",
   "mimetype": "text/x-python",
   "name": "python",
   "nbconvert_exporter": "python",
   "pygments_lexer": "ipython3",
   "version": "3.7.6"
  }
 },
 "nbformat": 4,
 "nbformat_minor": 4
}
